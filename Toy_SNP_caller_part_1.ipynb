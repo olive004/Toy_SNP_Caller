{
  "nbformat": 4,
  "nbformat_minor": 0,
  "metadata": {
    "colab": {
      "name": "Toy_SNP_caller_part_1.ipynb",
      "version": "0.3.2",
      "provenance": [],
      "collapsed_sections": [],
      "include_colab_link": true
    },
    "kernelspec": {
      "name": "python3",
      "display_name": "Python 3"
    },
    "accelerator": "GPU"
  },
  "cells": [
    {
      "cell_type": "markdown",
      "metadata": {
        "id": "view-in-github",
        "colab_type": "text"
      },
      "source": [
        "<a href=\"https://colab.research.google.com/github/olive004/Toy_SNP_Caller/blob/master/Toy_SNP_caller_part_1.ipynb\" target=\"_parent\"><img src=\"https://colab.research.google.com/assets/colab-badge.svg\" alt=\"Open In Colab\"/></a>"
      ]
    },
    {
      "cell_type": "code",
      "metadata": {
        "id": "PGJaC2sPtoY8",
        "colab_type": "code",
        "colab": {}
      },
      "source": [
        "import random\n",
        "import numpy as np\n",
        "NUCLEOTIDES = \"ACGT\""
      ],
      "execution_count": 0,
      "outputs": []
    },
    {
      "cell_type": "markdown",
      "metadata": {
        "id": "UQeH0YWswtey",
        "colab_type": "text"
      },
      "source": [
        "# Function to simulate multiple sequence alignments with errors and either no SNP or heterozygous SNP"
      ]
    },
    {
      "cell_type": "code",
      "metadata": {
        "id": "BDaOD0ggttm2",
        "colab_type": "code",
        "colab": {}
      },
      "source": [
        "def simulate_alignments(reference_length=200, num_alignments = 20000, \n",
        "                        coverage = 100, p_sequencing_error=0.03):\n",
        "    alignments = []\n",
        "    mutation_types = []\n",
        "    snp_index = reference_length // 2\n",
        "    \n",
        "    for i in range(num_alignments):\n",
        "        if (i % 400 == 0):\n",
        "          print(\"Computing alignment \", i)\n",
        "        reference = [random.choice(NUCLEOTIDES) for _ in range(reference_length)]\n",
        "        reference_base_at_snp = reference[snp_index]\n",
        "        snp_base = random.choice([i for i in NUCLEOTIDES if i != reference_base_at_snp])\n",
        "        mutation_type=random.choice([0,1,2]) # 0 -> no SNP; 1 -> Homozygous SNP; 2 -> Heterozygous SNP\n",
        "        mutation_types.append(mutation_type)\n",
        "        \n",
        "        alignment = [reference]#first read is always the reference\n",
        "        for _ in range(coverage):\n",
        "            new_read = [reference[i] if random.random() > p_sequencing_error else random.choice(NUCLEOTIDES) for i in range(reference_length)]\n",
        "            \n",
        "            if mutation_type == 1: #homozygous SNP\n",
        "                new_read[snp_index] = snp_base\n",
        "            if mutation_type == 2 and random.random() > 0.5: # heterozygous SNP\n",
        "                new_read[snp_index] = snp_base\n",
        "\n",
        "            if random.random() < p_sequencing_error: #Add errors to SNP region also\n",
        "                new_read[snp_index] =  random.choice(NUCLEOTIDES)\n",
        "            alignment.append(new_read)\n",
        "        alignments.append(alignment)\n",
        "    return alignments, mutation_types"
      ],
      "execution_count": 0,
      "outputs": []
    },
    {
      "cell_type": "code",
      "metadata": {
        "id": "pD986DmYtvSN",
        "colab_type": "code",
        "colab": {}
      },
      "source": [
        "# Compute 2000 alignments\n",
        "alignments, mutation_types = simulate_alignments(num_alignments=2000)\n",
        "alignments = np.array(alignments)"
      ],
      "execution_count": 0,
      "outputs": []
    },
    {
      "cell_type": "markdown",
      "metadata": {
        "id": "1y3y129ht30z",
        "colab_type": "text"
      },
      "source": [
        "# Visualise the alignments"
      ]
    },
    {
      "cell_type": "code",
      "metadata": {
        "id": "eNTYDrvzt3K5",
        "colab_type": "code",
        "colab": {}
      },
      "source": [
        "import matplotlib.pyplot as plt\n",
        "%matplotlib inline\n"
      ],
      "execution_count": 0,
      "outputs": []
    },
    {
      "cell_type": "code",
      "metadata": {
        "id": "doQE5d7jt_EU",
        "colab_type": "code",
        "colab": {}
      },
      "source": [
        "transdict = {\"A\":0, \"C\": 1, \"G\":2, \"T\":3}\n",
        "alignments_ints = np.vectorize(transdict.get)(alignments)\n",
        "plt.rcParams['figure.dpi'] = 200"
      ],
      "execution_count": 0,
      "outputs": []
    },
    {
      "cell_type": "code",
      "metadata": {
        "id": "jyVMnxBOuBpt",
        "colab_type": "code",
        "colab": {}
      },
      "source": [
        "alignment_idx = 13\n",
        "plt.imshow(alignments_ints[alignment_idx],cmap='jet')\n",
        "mutation_type_names = {0: \"No mutation\",\n",
        "                 1: \"Homozygous SNP\",\n",
        "                 2: \"Heterozygous SNP\"}\n",
        "print (\"Mutation type: \", mutation_type_names[mutation_types[alignment_idx]])"
      ],
      "execution_count": 0,
      "outputs": []
    },
    {
      "cell_type": "code",
      "metadata": {
        "id": "tMGIzujTyJm1",
        "colab_type": "code",
        "colab": {}
      },
      "source": [
        "# Write the basecaller\n"
      ],
      "execution_count": 0,
      "outputs": []
    },
    {
      "cell_type": "code",
      "metadata": {
        "id": "qsWeqrxx6lCT",
        "colab_type": "code",
        "colab": {}
      },
      "source": [
        "import torch\n",
        "import torch.nn as nn\n",
        "import torch.nn.functional as F\n"
      ],
      "execution_count": 0,
      "outputs": []
    },
    {
      "cell_type": "code",
      "metadata": {
        "id": "7EDY6gyl60-m",
        "colab_type": "code",
        "colab": {}
      },
      "source": [
        "#print(alignments)"
      ],
      "execution_count": 0,
      "outputs": []
    },
    {
      "cell_type": "code",
      "metadata": {
        "id": "CutRD_DN62at",
        "colab_type": "code",
        "colab": {}
      },
      "source": [
        "print(mutation_types)"
      ],
      "execution_count": 0,
      "outputs": []
    },
    {
      "cell_type": "code",
      "metadata": {
        "id": "SmI8UZna84U4",
        "colab_type": "code",
        "colab": {}
      },
      "source": [
        "transdict = {\"A\":0, \"C\": 1, \"G\":2, \"T\":3}\n",
        "\n",
        "def char2int(alignments):\n",
        "  return np.vectorize(transdict.get)(alignments)\n",
        "\n",
        "def int2onehot(x):\n",
        "  \n",
        "  x = torch.from_numpy(x)\n",
        "  return F.one_hot(x, 4).to(torch.float32)\n"
      ],
      "execution_count": 0,
      "outputs": []
    },
    {
      "cell_type": "code",
      "metadata": {
        "id": "tTU2lWnQ9HaB",
        "colab_type": "code",
        "colab": {}
      },
      "source": [
        "alignment_ints = char2int(alignments)\n",
        "print(alignment_ints)\n",
        "\n",
        "onehot = int2onehot(alignment_ints).permute(0, 3, 1, 2)\n",
        "print(onehot)"
      ],
      "execution_count": 0,
      "outputs": []
    },
    {
      "cell_type": "code",
      "metadata": {
        "id": "842pm_4nIQTP",
        "colab_type": "code",
        "colab": {}
      },
      "source": [
        ""
      ],
      "execution_count": 0,
      "outputs": []
    },
    {
      "cell_type": "code",
      "metadata": {
        "id": "s2kh1Mda_p51",
        "colab_type": "code",
        "colab": {}
      },
      "source": [
        "\n",
        "np.shape(onehot[1, 1:, :, :]) # exclude reference"
      ],
      "execution_count": 0,
      "outputs": []
    },
    {
      "cell_type": "code",
      "metadata": {
        "id": "RI5RdnSc63Z6",
        "colab_type": "code",
        "colab": {}
      },
      "source": [
        "cuda = torch.device('cuda')\n",
        "\n",
        "class Net(nn.Module):\n",
        "    def __init__(self):\n",
        "        super(Net, self).__init__() # 200 x 100 x 4\n",
        "        self.conv1 = nn.Conv2d(in_channels=4, out_channels=6, kernel_size=5, stride=1, padding=2) # 200 x 100 x 6\n",
        "        self.pool1 = nn.MaxPool2d(2, 2) # 100 x 50 x 6\n",
        "        self.conv2 = nn.Conv2d(in_channels=6, out_channels=16, kernel_size=5, stride=1, padding=2) # 200 x 100 x 6\n",
        "        self.pool2 = nn.MaxPool2d(2, 2) # 50 x 25 x 16\n",
        "        # view # 20,000 ( x 1 x 1)\n",
        "        self.fc1 = nn.Linear(50*25*16, 3) # 3\n",
        "\n",
        "    def forward(self, x):\n",
        "        #print(x.size())\n",
        "        x = self.pool1(F.relu(self.conv1(x)))\n",
        "        #print(x.size())\n",
        "        x = self.pool2(F.relu(self.conv2(x)))\n",
        "        #print(x.size())\n",
        "        x = x.view(-1, 50*25*16)\n",
        "        #print(x.size())\n",
        "        x = F.relu(self.fc1(x))\n",
        "        #print(x.size())\n",
        "        return x\n",
        "      \n"
      ],
      "execution_count": 0,
      "outputs": []
    },
    {
      "cell_type": "code",
      "metadata": {
        "id": "Y-ZrRdgg-Ev6",
        "colab_type": "code",
        "colab": {}
      },
      "source": [
        "\n",
        "with torch.cuda.device(0):\n",
        "  model = Net()\n",
        "  \n",
        "  x_in = onehot[:20, :, :, :]\n",
        "  print('x_in:', x_in.shape)\n",
        "  y = model.forward(x_in) # NCHW\n",
        "  print(y)"
      ],
      "execution_count": 0,
      "outputs": []
    },
    {
      "cell_type": "code",
      "metadata": {
        "id": "Q1-6tzUR_fYz",
        "colab_type": "code",
        "colab": {}
      },
      "source": [
        "import torch.optim as optim\n",
        "\n",
        "criterion = nn.CrossEntropyLoss()\n",
        "optimizer = optim.SGD(model.parameters(), lr=0.001, momentum=0.9)"
      ],
      "execution_count": 0,
      "outputs": []
    },
    {
      "cell_type": "code",
      "metadata": {
        "id": "hsSB82vJMZ5Z",
        "colab_type": "code",
        "colab": {}
      },
      "source": [
        "for epoch in range(2):  # loop over the dataset multiple times\n",
        "\n",
        "    running_loss = 0.0\n",
        "    for i in range(int(2000 / 20)):\n",
        "        # get the inputs; data is a list of [inputs, labels]\n",
        "        #inputs, labels = data #  one_hot, mutation_types\n",
        "        inputs = onehot[20*i:20*(i+1), :, :, :]\n",
        "        #print(np.shape(inputs))\n",
        "        labels = torch.tensor(mutation_types[20*i:20*(i+1)], dtype=torch.long)\n",
        "\n",
        "        # zero the parameter gradients\n",
        "        optimizer.zero_grad()\n",
        "\n",
        "        # forward + backward + optimize\n",
        "        #print(inputs.shape)\n",
        "        outputs = model(inputs)\n",
        "        loss = criterion(outputs, labels)\n",
        "        loss.backward()\n",
        "        optimizer.step()\n",
        "\n",
        "        # print statistics\n",
        "        running_loss += loss.item()\n",
        "        if i % 2000 == 1999:    # print every 2000 mini-batches\n",
        "            print('[%d, %5d] loss: %.3f' %\n",
        "                  (epoch + 1, i + 1, running_loss / 2000))\n",
        "            running_loss = 0.0\n",
        "\n",
        "print('Finished Training')"
      ],
      "execution_count": 0,
      "outputs": []
    },
    {
      "cell_type": "code",
      "metadata": {
        "id": "QCV0d6vBN9EG",
        "colab_type": "code",
        "outputId": "2d280c18-fe80-4091-bec8-ce5f69a69f0d",
        "colab": {
          "base_uri": "https://localhost:8080/",
          "height": 34
        }
      },
      "source": [
        "test_inputs, test_outputs = simulate_alignments()"
      ],
      "execution_count": 0,
      "outputs": [
        {
          "output_type": "stream",
          "text": [
            "Computing alignment  0\n"
          ],
          "name": "stdout"
        }
      ]
    },
    {
      "cell_type": "code",
      "metadata": {
        "id": "IU7vcv7ZSBt6",
        "colab_type": "code",
        "colab": {}
      },
      "source": [
        "x_in = onehot[:20, :, :, :]\n",
        "y_in = mutation_types[:20]\n",
        "y = model.forward(x_in) # NCHW\n",
        "print('\\n'.join(['{}\\t{}'.format(a, b) for (a, b) in zip(y, y_in)]))"
      ],
      "execution_count": 0,
      "outputs": []
    },
    {
      "cell_type": "code",
      "metadata": {
        "id": "0GKvKIIMV4NA",
        "colab_type": "code",
        "colab": {}
      },
      "source": [
        "import torch\n",
        "import torch.utils.data"
      ],
      "execution_count": 0,
      "outputs": []
    },
    {
      "cell_type": "code",
      "metadata": {
        "id": "dzuJCJgRWfmT",
        "colab_type": "code",
        "colab": {}
      },
      "source": [
        "testset = simulate_alignments(reference_length=200, num_alignments = 20, coverage = 100, p_sequencing_error=0.03)\n",
        "\n",
        "test_alignment_ints = char2int(testset)\n",
        "print(test_alignment_ints)\n",
        "\n",
        "onehot_test = int2onehot(test_alignment_ints).permute(0, 3, 1, 2)\n",
        "print(onehot_test)"
      ],
      "execution_count": 0,
      "outputs": []
    },
    {
      "cell_type": "code",
      "metadata": {
        "id": "YhycmVQAScgA",
        "colab_type": "code",
        "colab": {}
      },
      "source": [
        "\n",
        "testloader = torch.utils.data.DataLoader(testset, batch_size=20,\n",
        "                                         shuffle=False, num_workers=2)     # Output: alignments, mutation_types\n",
        "\n",
        "correct = 0\n",
        "total = 0\n",
        "with torch.no_grad():\n",
        "    for data in testloader:\n",
        "        alignments, mutation_types = data\n",
        "        outputs = model(alignments)\n",
        "        _, predicted = torch.max(outputs.data, 1)\n",
        "        total += labels.size(0)\n",
        "        correct += (predicted == labels).sum().item()\n",
        "\n",
        "print('Accuracy of the network on the 10000 test images: %d %%' % (\n",
        "    100 * correct / total))"
      ],
      "execution_count": 0,
      "outputs": []
    },
    {
      "cell_type": "code",
      "metadata": {
        "id": "02SPC2D0VBos",
        "colab_type": "code",
        "colab": {}
      },
      "source": [
        ""
      ],
      "execution_count": 0,
      "outputs": []
    }
  ]
}